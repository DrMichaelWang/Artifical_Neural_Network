{
 "cells": [
  {
   "cell_type": "code",
   "execution_count": 1,
   "metadata": {
    "collapsed": true
   },
   "outputs": [],
   "source": [
    "import numpy as np\n",
    "import matplotlib.pyplot as plt\n",
    "import pandas as pd"
   ]
  },
  {
   "cell_type": "code",
   "execution_count": 2,
   "metadata": {
    "collapsed": true
   },
   "outputs": [],
   "source": [
    "# Importing the dataset\n",
    "dataset = pd.read_csv('Churn_Modelling.csv')\n",
    "X = dataset.iloc[:, 3:13].values\n",
    "y = dataset.iloc[:, 13].values"
   ]
  },
  {
   "cell_type": "code",
   "execution_count": 3,
   "metadata": {
    "collapsed": true
   },
   "outputs": [],
   "source": [
    "# Encoding categorical data\n",
    "from sklearn.preprocessing import LabelEncoder, OneHotEncoder\n",
    "labelencoder_X_1 = LabelEncoder()\n",
    "X[:, 1] = labelencoder_X_1.fit_transform(X[:, 1])\n",
    "labelencoder_X_2 = LabelEncoder()\n",
    "X[:, 2] = labelencoder_X_2.fit_transform(X[:, 2])\n",
    "onehotencoder = OneHotEncoder(categorical_features = [1])\n",
    "X = onehotencoder.fit_transform(X).toarray()\n",
    "X = X[:, 1:]"
   ]
  },
  {
   "cell_type": "code",
   "execution_count": 4,
   "metadata": {
    "collapsed": true
   },
   "outputs": [],
   "source": [
    "# Splitting the dataset into the Training set and Test set\n",
    "from sklearn.model_selection import train_test_split\n",
    "X_train, X_test, y_train, y_test = train_test_split(X, y, test_size = 0.25, random_state = 0)"
   ]
  },
  {
   "cell_type": "code",
   "execution_count": 5,
   "metadata": {
    "collapsed": true
   },
   "outputs": [],
   "source": [
    "# Feature Scaling\n",
    "from sklearn.preprocessing import StandardScaler\n",
    "sc = StandardScaler()\n",
    "X_train = sc.fit_transform(X_train)\n",
    "X_test = sc.transform(X_test)"
   ]
  },
  {
   "cell_type": "code",
   "execution_count": 6,
   "metadata": {},
   "outputs": [
    {
     "name": "stderr",
     "output_type": "stream",
     "text": [
      "Using TensorFlow backend.\n"
     ]
    }
   ],
   "source": [
    "# Importing the Keras libraries and packages\n",
    "import keras\n",
    "from keras.models import Sequential\n",
    "from keras.layers import Dense"
   ]
  },
  {
   "cell_type": "code",
   "execution_count": 7,
   "metadata": {
    "collapsed": true
   },
   "outputs": [],
   "source": [
    "# Initialising the ANN\n",
    "classifier = Sequential()"
   ]
  },
  {
   "cell_type": "code",
   "execution_count": 9,
   "metadata": {},
   "outputs": [],
   "source": [
    "# Adding the input layer and the first hidden layer\n",
    "classifier.add(Dense(activation=\"relu\", input_dim=11, units=6, kernel_initializer=\"uniform\"))\n",
    "# Update from Dense(output_dim = 6, init = 'uniform', activation = 'relu', input_dim = 11)\n",
    "\n",
    "# Adding the second hidden layer\n",
    "classifier.add(Dense(activation=\"relu\", units=6, kernel_initializer=\"uniform\"))\n",
    "# Update from Dense(output_dim = 6, init = 'uniform', activation = 'relu')\n",
    "\n",
    "# Adding the output layer\n",
    "classifier.add(Dense(activation=\"sigmoid\", units=1, kernel_initializer=\"uniform\"))\n",
    "# Update from Dense(output_dim = 1, init = 'uniform', activation = 'sigmoid')\n",
    "\n",
    "# Compiling the ANN\n",
    "classifier.compile(optimizer = 'adam', loss = 'binary_crossentropy', metrics = ['accuracy'])"
   ]
  },
  {
   "cell_type": "code",
   "execution_count": 11,
   "metadata": {},
   "outputs": [
    {
     "name": "stdout",
     "output_type": "stream",
     "text": [
      "Epoch 1/100\n",
      "7500/7500 [==============================] - 1s - loss: 0.3936 - acc: 0.8368     \n",
      "Epoch 2/100\n",
      "7500/7500 [==============================] - 1s - loss: 0.3941 - acc: 0.8392     - ETA: 0s - loss: 0.39\n",
      "Epoch 3/100\n",
      "7500/7500 [==============================] - 1s - loss: 0.3937 - acc: 0.8368     \n",
      "Epoch 4/100\n",
      "7500/7500 [==============================] - 1s - loss: 0.3933 - acc: 0.8376     - ETA: 0s - loss: 0.3933 - a\n",
      "Epoch 5/100\n",
      "7500/7500 [==============================] - 1s - loss: 0.3936 - acc: 0.8381     \n",
      "Epoch 6/100\n",
      "7500/7500 [==============================] - 1s - loss: 0.3936 - acc: 0.8384     \n",
      "Epoch 7/100\n",
      "7500/7500 [==============================] - 1s - loss: 0.3932 - acc: 0.8384     \n",
      "Epoch 8/100\n",
      "7500/7500 [==============================] - 1s - loss: 0.3933 - acc: 0.8391     \n",
      "Epoch 9/100\n",
      "7500/7500 [==============================] - 1s - loss: 0.3933 - acc: 0.8389     - ETA: 0s - loss: 0.\n",
      "Epoch 10/100\n",
      "7500/7500 [==============================] - 1s - loss: 0.3926 - acc: 0.8397     \n",
      "Epoch 11/100\n",
      "7500/7500 [==============================] - 1s - loss: 0.3929 - acc: 0.8391     \n",
      "Epoch 12/100\n",
      "7500/7500 [==============================] - 1s - loss: 0.3927 - acc: 0.8384     - ETA: 1s - \n",
      "Epoch 13/100\n",
      "7500/7500 [==============================] - 1s - loss: 0.3923 - acc: 0.8383     \n",
      "Epoch 14/100\n",
      "7500/7500 [==============================] - 1s - loss: 0.3932 - acc: 0.8371     \n",
      "Epoch 15/100\n",
      "7500/7500 [==============================] - 1s - loss: 0.3929 - acc: 0.8387     \n",
      "Epoch 16/100\n",
      "7500/7500 [==============================] - 1s - loss: 0.3931 - acc: 0.8377     \n",
      "Epoch 17/100\n",
      "7500/7500 [==============================] - 1s - loss: 0.3928 - acc: 0.8373     \n",
      "Epoch 18/100\n",
      "7500/7500 [==============================] - 1s - loss: 0.3924 - acc: 0.8380     \n",
      "Epoch 19/100\n",
      "7500/7500 [==============================] - 1s - loss: 0.3934 - acc: 0.8377     - ETA: 0s - loss: 0.396\n",
      "Epoch 20/100\n",
      "7500/7500 [==============================] - 1s - loss: 0.3926 - acc: 0.8395     \n",
      "Epoch 21/100\n",
      "7500/7500 [==============================] - 1s - loss: 0.3923 - acc: 0.8380     \n",
      "Epoch 22/100\n",
      "7500/7500 [==============================] - 1s - loss: 0.3929 - acc: 0.8407     \n",
      "Epoch 23/100\n",
      "7500/7500 [==============================] - 1s - loss: 0.3926 - acc: 0.8392     \n",
      "Epoch 24/100\n",
      "7500/7500 [==============================] - 1s - loss: 0.3920 - acc: 0.8400     \n",
      "Epoch 25/100\n",
      "7500/7500 [==============================] - 1s - loss: 0.3926 - acc: 0.8380     \n",
      "Epoch 26/100\n",
      "7500/7500 [==============================] - 1s - loss: 0.3927 - acc: 0.8380     \n",
      "Epoch 27/100\n",
      "7500/7500 [==============================] - 1s - loss: 0.3926 - acc: 0.8388     \n",
      "Epoch 28/100\n",
      "7500/7500 [==============================] - 1s - loss: 0.3920 - acc: 0.8413     \n",
      "Epoch 29/100\n",
      "7500/7500 [==============================] - 0s - loss: 0.3933 - acc: 0.8381     \n",
      "Epoch 30/100\n",
      "7500/7500 [==============================] - 1s - loss: 0.3928 - acc: 0.8396     \n",
      "Epoch 31/100\n",
      "7500/7500 [==============================] - 0s - loss: 0.3920 - acc: 0.8387     \n",
      "Epoch 32/100\n",
      "7500/7500 [==============================] - 0s - loss: 0.3928 - acc: 0.8387     - ETA: 0s - loss: 0.3772 - \n",
      "Epoch 33/100\n",
      "7500/7500 [==============================] - 0s - loss: 0.3926 - acc: 0.8399     \n",
      "Epoch 34/100\n",
      "7500/7500 [==============================] - 1s - loss: 0.3921 - acc: 0.8401     \n",
      "Epoch 35/100\n",
      "7500/7500 [==============================] - 1s - loss: 0.3922 - acc: 0.8389     \n",
      "Epoch 36/100\n",
      "7500/7500 [==============================] - 1s - loss: 0.3926 - acc: 0.8383     \n",
      "Epoch 37/100\n",
      "7500/7500 [==============================] - 1s - loss: 0.3922 - acc: 0.8403     \n",
      "Epoch 38/100\n",
      "7500/7500 [==============================] - 0s - loss: 0.3918 - acc: 0.8399     \n",
      "Epoch 39/100\n",
      "7500/7500 [==============================] - 0s - loss: 0.3920 - acc: 0.8401     \n",
      "Epoch 40/100\n",
      "7500/7500 [==============================] - 1s - loss: 0.3917 - acc: 0.8404     \n",
      "Epoch 41/100\n",
      "7500/7500 [==============================] - 0s - loss: 0.3924 - acc: 0.8375     \n",
      "Epoch 42/100\n",
      "7500/7500 [==============================] - 0s - loss: 0.3922 - acc: 0.8401     \n",
      "Epoch 43/100\n",
      "7500/7500 [==============================] - 0s - loss: 0.3922 - acc: 0.8381     \n",
      "Epoch 44/100\n",
      "7500/7500 [==============================] - 0s - loss: 0.3926 - acc: 0.8400     \n",
      "Epoch 45/100\n",
      "7500/7500 [==============================] - 0s - loss: 0.3920 - acc: 0.8385     \n",
      "Epoch 46/100\n",
      "7500/7500 [==============================] - 0s - loss: 0.3921 - acc: 0.8380     - ETA: 0s - loss: 0.3923 - acc: 0.838\n",
      "Epoch 47/100\n",
      "7500/7500 [==============================] - 0s - loss: 0.3919 - acc: 0.8404     \n",
      "Epoch 48/100\n",
      "7500/7500 [==============================] - 0s - loss: 0.3921 - acc: 0.8384     \n",
      "Epoch 49/100\n",
      "7500/7500 [==============================] - 1s - loss: 0.3917 - acc: 0.8384     \n",
      "Epoch 50/100\n",
      "7500/7500 [==============================] - 1s - loss: 0.3918 - acc: 0.8400     \n",
      "Epoch 51/100\n",
      "7500/7500 [==============================] - 0s - loss: 0.3919 - acc: 0.8381     \n",
      "Epoch 52/100\n",
      "7500/7500 [==============================] - 0s - loss: 0.3918 - acc: 0.8393     \n",
      "Epoch 53/100\n",
      "7500/7500 [==============================] - 1s - loss: 0.3919 - acc: 0.8391     \n",
      "Epoch 54/100\n",
      "7500/7500 [==============================] - 0s - loss: 0.3918 - acc: 0.8412     \n",
      "Epoch 55/100\n",
      "7500/7500 [==============================] - 0s - loss: 0.3912 - acc: 0.8373     \n",
      "Epoch 56/100\n",
      "7500/7500 [==============================] - 0s - loss: 0.3897 - acc: 0.8380     - ETA: 0s - loss: 0.3898 - acc: 0.837\n",
      "Epoch 57/100\n",
      "7500/7500 [==============================] - 1s - loss: 0.3878 - acc: 0.8379     - ETA: 0s - loss: 0.3845 \n",
      "Epoch 58/100\n",
      "7500/7500 [==============================] - 0s - loss: 0.3816 - acc: 0.8389     \n",
      "Epoch 59/100\n",
      "7500/7500 [==============================] - 0s - loss: 0.3745 - acc: 0.8423     - ETA: 0s - loss: 0.3905 \n",
      "Epoch 60/100\n",
      "7500/7500 [==============================] - 0s - loss: 0.3706 - acc: 0.8449     \n",
      "Epoch 61/100\n",
      "7500/7500 [==============================] - 0s - loss: 0.3664 - acc: 0.8492     \n",
      "Epoch 62/100\n",
      "7500/7500 [==============================] - 1s - loss: 0.3636 - acc: 0.8520     - ETA: 0s - loss: 0.3588 - acc\n",
      "Epoch 63/100\n",
      "7500/7500 [==============================] - 0s - loss: 0.3604 - acc: 0.8541     \n",
      "Epoch 64/100\n",
      "7500/7500 [==============================] - 0s - loss: 0.3558 - acc: 0.8565     \n",
      "Epoch 65/100\n",
      "7500/7500 [==============================] - 0s - loss: 0.3531 - acc: 0.8565     \n",
      "Epoch 66/100\n",
      "7500/7500 [==============================] - 0s - loss: 0.3520 - acc: 0.8568     \n",
      "Epoch 67/100\n",
      "7500/7500 [==============================] - 0s - loss: 0.3496 - acc: 0.8587     \n",
      "Epoch 68/100\n",
      "7500/7500 [==============================] - 0s - loss: 0.3476 - acc: 0.8571     \n",
      "Epoch 69/100\n",
      "7500/7500 [==============================] - 0s - loss: 0.3453 - acc: 0.8601     - ETA: 0s - loss: 0.3404\n",
      "Epoch 70/100\n",
      "7500/7500 [==============================] - 0s - loss: 0.3445 - acc: 0.8597     \n",
      "Epoch 71/100\n",
      "7500/7500 [==============================] - 0s - loss: 0.3428 - acc: 0.8603     - ETA: 0s - loss: 0.3465 - acc: 0.8\n",
      "Epoch 72/100\n",
      "7500/7500 [==============================] - 0s - loss: 0.3416 - acc: 0.8609     - ETA: 0s - loss: 0.3474 -\n",
      "Epoch 73/100\n",
      "7500/7500 [==============================] - 0s - loss: 0.3425 - acc: 0.8576     \n",
      "Epoch 74/100\n",
      "7500/7500 [==============================] - 0s - loss: 0.3416 - acc: 0.8593     \n",
      "Epoch 75/100\n",
      "7500/7500 [==============================] - 1s - loss: 0.3410 - acc: 0.8595     - ETA: 0s - loss: 0.33\n",
      "Epoch 76/100\n",
      "7500/7500 [==============================] - 1s - loss: 0.3401 - acc: 0.8595     \n",
      "Epoch 77/100\n",
      "7500/7500 [==============================] - 1s - loss: 0.3407 - acc: 0.8613     \n",
      "Epoch 78/100\n",
      "7500/7500 [==============================] - 1s - loss: 0.3386 - acc: 0.8627     \n",
      "Epoch 79/100\n",
      "7500/7500 [==============================] - 1s - loss: 0.3387 - acc: 0.8623     - ETA: 0s - loss: 0.3346 \n",
      "Epoch 80/100\n",
      "7500/7500 [==============================] - 1s - loss: 0.3378 - acc: 0.8612     \n",
      "Epoch 81/100\n",
      "7500/7500 [==============================] - 1s - loss: 0.3398 - acc: 0.8628     \n",
      "Epoch 82/100\n"
     ]
    },
    {
     "name": "stdout",
     "output_type": "stream",
     "text": [
      "7500/7500 [==============================] - 1s - loss: 0.3392 - acc: 0.8604     \n",
      "Epoch 83/100\n",
      "7500/7500 [==============================] - 1s - loss: 0.3384 - acc: 0.8613     \n",
      "Epoch 84/100\n",
      "7500/7500 [==============================] - 1s - loss: 0.3384 - acc: 0.8607     \n",
      "Epoch 85/100\n",
      "7500/7500 [==============================] - 1s - loss: 0.3377 - acc: 0.8611     \n",
      "Epoch 86/100\n",
      "7500/7500 [==============================] - 1s - loss: 0.3384 - acc: 0.8612     \n",
      "Epoch 87/100\n",
      "7500/7500 [==============================] - 1s - loss: 0.3383 - acc: 0.8635     \n",
      "Epoch 88/100\n",
      "7500/7500 [==============================] - 1s - loss: 0.3390 - acc: 0.8615     \n",
      "Epoch 89/100\n",
      "7500/7500 [==============================] - 1s - loss: 0.3374 - acc: 0.8620     \n",
      "Epoch 90/100\n",
      "7500/7500 [==============================] - 1s - loss: 0.3375 - acc: 0.8600     \n",
      "Epoch 91/100\n",
      "7500/7500 [==============================] - 1s - loss: 0.3370 - acc: 0.8593     - ETA: 0s - loss: 0.3353 - acc: 0\n",
      "Epoch 92/100\n",
      "7500/7500 [==============================] - 1s - loss: 0.3371 - acc: 0.8617     \n",
      "Epoch 93/100\n",
      "7500/7500 [==============================] - 1s - loss: 0.3367 - acc: 0.8628     - ETA: 0s - loss: 0.3235 \n",
      "Epoch 94/100\n",
      "7500/7500 [==============================] - 1s - loss: 0.3371 - acc: 0.8615     \n",
      "Epoch 95/100\n",
      "7500/7500 [==============================] - 1s - loss: 0.3376 - acc: 0.8637     \n",
      "Epoch 96/100\n",
      "7500/7500 [==============================] - 1s - loss: 0.3370 - acc: 0.8620     \n",
      "Epoch 97/100\n",
      "7500/7500 [==============================] - 1s - loss: 0.3367 - acc: 0.8613     \n",
      "Epoch 98/100\n",
      "7500/7500 [==============================] - 1s - loss: 0.3362 - acc: 0.8633     \n",
      "Epoch 99/100\n",
      "7500/7500 [==============================] - 1s - loss: 0.3367 - acc: 0.8636     \n",
      "Epoch 100/100\n",
      "7500/7500 [==============================] - 1s - loss: 0.3360 - acc: 0.8605     \n"
     ]
    },
    {
     "data": {
      "text/plain": [
       "<keras.callbacks.History at 0xe05ceb8>"
      ]
     },
     "execution_count": 11,
     "metadata": {},
     "output_type": "execute_result"
    }
   ],
   "source": [
    "# Fitting the ANN to the Training set\n",
    "classifier.fit(X_train, y_train, batch_size = 10, epochs = 100)"
   ]
  },
  {
   "cell_type": "code",
   "execution_count": 12,
   "metadata": {
    "collapsed": true
   },
   "outputs": [],
   "source": [
    "# Predicting the Test set results\n",
    "y_pred = classifier.predict(X_test)\n",
    "y_pred = (y_pred > 0.5)"
   ]
  },
  {
   "cell_type": "code",
   "execution_count": 13,
   "metadata": {
    "collapsed": true
   },
   "outputs": [],
   "source": [
    "# Making the Confusion Matrix\n",
    "from sklearn.metrics import confusion_matrix\n",
    "cm = confusion_matrix(y_test, y_pred)"
   ]
  },
  {
   "cell_type": "code",
   "execution_count": 14,
   "metadata": {},
   "outputs": [
    {
     "data": {
      "text/plain": [
       "array([[1872,  119],\n",
       "       [ 252,  257]], dtype=int64)"
      ]
     },
     "execution_count": 14,
     "metadata": {},
     "output_type": "execute_result"
    }
   ],
   "source": [
    "cm"
   ]
  },
  {
   "cell_type": "code",
   "execution_count": null,
   "metadata": {
    "collapsed": true
   },
   "outputs": [],
   "source": []
  }
 ],
 "metadata": {
  "kernelspec": {
   "display_name": "Python 3",
   "language": "python",
   "name": "python3"
  },
  "language_info": {
   "codemirror_mode": {
    "name": "ipython",
    "version": 3
   },
   "file_extension": ".py",
   "mimetype": "text/x-python",
   "name": "python",
   "nbconvert_exporter": "python",
   "pygments_lexer": "ipython3",
   "version": "3.6.2"
  }
 },
 "nbformat": 4,
 "nbformat_minor": 2
}
